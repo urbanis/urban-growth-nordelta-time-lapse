{
 "cells": [
  {
   "cell_type": "code",
   "execution_count": 120,
   "id": "41b130a1",
   "metadata": {},
   "outputs": [],
   "source": [
    "import ee\n",
    "import geemap\n",
    "import os"
   ]
  },
  {
   "cell_type": "code",
   "execution_count": 137,
   "id": "16d799e3",
   "metadata": {},
   "outputs": [
    {
     "data": {
      "application/vnd.jupyter.widget-view+json": {
       "model_id": "75bce7ba3c7c45feb0bc89f8522bf938",
       "version_major": 2,
       "version_minor": 0
      },
      "text/plain": [
       "Map(center=[-34.4002801, -58.6846835], controls=(WidgetControl(options=['position', 'transparent_bg'], widget=…"
      ]
     },
     "metadata": {},
     "output_type": "display_data"
    }
   ],
   "source": [
    "map_nordelta = geemap.Map(center=(-34.4002801, -58.6846835), zoom=13)\n",
    "map_nordelta.add_basemap('SATELLITE')\n",
    "map_nordelta"
   ]
  },
  {
   "cell_type": "code",
   "execution_count": 138,
   "id": "eaa38aee",
   "metadata": {},
   "outputs": [],
   "source": [
    "map_nordelta_definition = map_nordelta.user_roi"
   ]
  },
  {
   "cell_type": "code",
   "execution_count": 139,
   "id": "f3293b02",
   "metadata": {},
   "outputs": [],
   "source": [
    "collection = geemap.landsat_timeseries(roi=map_nordelta_definition, start_year=1984, end_year=2020)"
   ]
  },
  {
   "cell_type": "code",
   "execution_count": 140,
   "id": "c64c77c4",
   "metadata": {},
   "outputs": [],
   "source": [
    "first_image = collection.first()\n",
    "\n",
    "visualization_parameters = {\n",
    "    'bands': ['NIR', 'Red', 'Green'],\n",
    "    'min': 0,\n",
    "    'max': 4000,\n",
    "    'gamma': [1, 1, 1]\n",
    "}\n",
    "\n",
    "map_nordelta.addLayer(first_image, vis, 'First image')"
   ]
  },
  {
   "cell_type": "code",
   "execution_count": 141,
   "id": "63c17180",
   "metadata": {},
   "outputs": [],
   "source": [
    "video_parameters = {\n",
    "  'dimensions': 768,\n",
    "  'region': map_nordelta_definition,\n",
    "  'framesPerSecond': 0.1,\n",
    "  'bands': ['NIR', 'Red', 'Green'],\n",
    "  'min': 0,\n",
    "  'max': 4000,\n",
    "  'gamma': [1, 1, 1]\n",
    "}"
   ]
  },
  {
   "cell_type": "code",
   "execution_count": 142,
   "id": "69c55d02",
   "metadata": {},
   "outputs": [
    {
     "name": "stdout",
     "output_type": "stream",
     "text": [
      "Generating URL...\n",
      "Downloading GIF image from https://earthengine.googleapis.com/v1alpha/projects/earthengine-legacy/videoThumbnails/0e2fb90e35e8293d4ab30953e3596729-f4f5a2e44c5d07a57e1bea6dbb1555e1:getPixels\n",
      "Please wait ...\n",
      "The GIF image has been saved to: C:\\Users\\WINDOWS 10\\Documents\\GitHub\\urban-growth-nordelta-time-lapse\\notebooks\\nordelta-temporary.gif\n"
     ]
    }
   ],
   "source": [
    "work_dir=''\n",
    "gif = os.path.join(work_dir, \"nordelta-temporary.gif\")\n",
    "geemap.download_ee_video(collection, video_parameters, gif)"
   ]
  },
  {
   "cell_type": "code",
   "execution_count": 106,
   "id": "35d5e53e",
   "metadata": {},
   "outputs": [
    {
     "data": {
      "application/vnd.jupyter.widget-view+json": {
       "model_id": "a6aed17a473141ebb19c5232d8c423a5",
       "version_major": 2,
       "version_minor": 0
      },
      "text/plain": [
       "Output()"
      ]
     },
     "metadata": {},
     "output_type": "display_data"
    }
   ],
   "source": [
    "geemap.show_image(gif)"
   ]
  },
  {
   "cell_type": "code",
   "execution_count": 143,
   "id": "575df5d2",
   "metadata": {},
   "outputs": [],
   "source": [
    "texted_gif = os.path.join(work_dir, \"nordelta.gif\")\n",
    "geemap.add_text_to_gif(gif, texted_gif, xy=('3%', '5%'), text_sequence=1984, font_size=30, font_color='#ffffff', add_progress_bar=False)"
   ]
  },
  {
   "cell_type": "code",
   "execution_count": 144,
   "id": "e6d4f6c4",
   "metadata": {},
   "outputs": [],
   "source": [
    "os.remove(\"nordelta-temporary.gif\")"
   ]
  },
  {
   "cell_type": "code",
   "execution_count": 145,
   "id": "c295784c",
   "metadata": {},
   "outputs": [],
   "source": [
    "label = 'Nordelta, Buenos Aires'\n",
    "geemap.add_text_to_gif(texted_gif, texted_gif, xy=('2%', '88%'), text_sequence=label, font_size=30, font_color='#ffffff', progress_bar_color='cyan')"
   ]
  },
  {
   "cell_type": "code",
   "execution_count": 131,
   "id": "33d15a92",
   "metadata": {},
   "outputs": [
    {
     "data": {
      "application/vnd.jupyter.widget-view+json": {
       "model_id": "501480e332c749ea83c5110488ea6498",
       "version_major": 2,
       "version_minor": 0
      },
      "text/plain": [
       "Output()"
      ]
     },
     "metadata": {},
     "output_type": "display_data"
    }
   ],
   "source": [
    "geemap.show_image(texted_gif)"
   ]
  }
 ],
 "metadata": {
  "kernelspec": {
   "display_name": "Python 3 (ipykernel)",
   "language": "python",
   "name": "python3"
  },
  "language_info": {
   "codemirror_mode": {
    "name": "ipython",
    "version": 3
   },
   "file_extension": ".py",
   "mimetype": "text/x-python",
   "name": "python",
   "nbconvert_exporter": "python",
   "pygments_lexer": "ipython3",
   "version": "3.9.6"
  }
 },
 "nbformat": 4,
 "nbformat_minor": 5
}
