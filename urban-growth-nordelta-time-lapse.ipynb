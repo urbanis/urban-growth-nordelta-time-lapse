{
 "cells": [
  {
   "cell_type": "code",
   "execution_count": 261,
   "id": "41b130a1",
   "metadata": {},
   "outputs": [],
   "source": [
    "import ee\n",
    "import os\n",
    "import geemap"
   ]
  },
  {
   "cell_type": "code",
   "execution_count": 262,
   "id": "593cd415",
   "metadata": {},
   "outputs": [
    {
     "name": "stdout",
     "output_type": "stream",
     "text": [
      "Downloading https://github.com/giswqs/geemap/archive/master.zip ...\n",
      "Unzipping geemap-master.zip ...\n",
      "Data downloaded to: C:\\Users\\WINDOWS 10\\Downloads\\geemap-master\n",
      "\n",
      "Please comment out 'geemap.update_package()' and restart the kernel to take effect:\n",
      "Jupyter menu -> Kernel -> Restart & Clear Output\n"
     ]
    }
   ],
   "source": [
    "geemap.update_package()"
   ]
  },
  {
   "cell_type": "code",
   "execution_count": 263,
   "id": "16d799e3",
   "metadata": {},
   "outputs": [
    {
     "data": {
      "application/vnd.jupyter.widget-view+json": {
       "model_id": "e9ad96f54ae743ffb82e01d9769ffcc7",
       "version_major": 2,
       "version_minor": 0
      },
      "text/plain": [
       "Map(center=[-34.4002801, -58.6846835], controls=(WidgetControl(options=['position', 'transparent_bg'], widget=…"
      ]
     },
     "metadata": {},
     "output_type": "display_data"
    }
   ],
   "source": [
    "Map = geemap.Map(center=(-34.4002801, -58.6846835), zoom=14)\n",
    "Map.add_basemap('SATELLITE')\n",
    "Map"
   ]
  },
  {
   "cell_type": "code",
   "execution_count": 265,
   "id": "f5b1c857",
   "metadata": {
    "scrolled": true
   },
   "outputs": [
    {
     "name": "stdout",
     "output_type": "stream",
     "text": [
      "Generating URL...\n",
      "Downloading GIF image from https://earthengine.googleapis.com/v1alpha/projects/earthengine-legacy/videoThumbnails/334ed2b8509287652ea7d66a20b30034-0aaaad71aefd6bdd770d866d7499afa4:getPixels\n",
      "Please wait ...\n",
      "The GIF image has been saved to: C:\\Users\\WINDOWS 10\\Downloads\\landsat_ts_lrz.gif\n",
      "Adding animated text to GIF ...\n",
      "Adding GIF to the map ...\n",
      "The timelapse has been added to the map.\n"
     ]
    }
   ],
   "source": [
    "label = 'Nordelta'\n",
    "Map.add_landsat_ts_gif(label=label, start_year=1995, bands=['Red', 'Green', 'Blue'], font_color='white', frames_per_second=0.1, progress_bar_color='blue')"
   ]
  },
  {
   "cell_type": "code",
   "execution_count": 266,
   "id": "bdb2a174",
   "metadata": {
    "scrolled": true
   },
   "outputs": [
    {
     "data": {
      "application/vnd.jupyter.widget-view+json": {
       "model_id": "2d9db041a99e46ac86d485d8e7163584",
       "version_major": 2,
       "version_minor": 0
      },
      "text/plain": [
       "Map(center=[-34.4002801, -58.6846835], controls=(WidgetControl(options=['position', 'transparent_bg'], widget=…"
      ]
     },
     "metadata": {},
     "output_type": "display_data"
    }
   ],
   "source": [
    "Map = geemap.Map(center=(-34.4002801, -58.6846835), zoom=14)\n",
    "Map.add_basemap('SATELLITE')\n",
    "Map"
   ]
  },
  {
   "cell_type": "code",
   "execution_count": null,
   "id": "8b22d91b",
   "metadata": {},
   "outputs": [],
   "source": []
  },
  {
   "cell_type": "code",
   "execution_count": 267,
   "id": "eaa38aee",
   "metadata": {},
   "outputs": [],
   "source": [
    "Map_Nordelta = Map.user_roi"
   ]
  },
  {
   "cell_type": "code",
   "execution_count": 268,
   "id": "f3293b02",
   "metadata": {},
   "outputs": [],
   "source": [
    "collection = geemap.landsat_timeseries(roi=Map_Nordelta, start_year=1984, end_year=2020)"
   ]
  },
  {
   "cell_type": "code",
   "execution_count": 269,
   "id": "c64c77c4",
   "metadata": {},
   "outputs": [],
   "source": [
    "first_image = collection.first()\n",
    "\n",
    "vis = {\n",
    "    'bands': ['NIR', 'Red', 'Green'],\n",
    "    'min': 0,\n",
    "    'max': 4000,\n",
    "    'gamma': [1, 1, 1]\n",
    "}\n",
    "\n",
    "Map.addLayer(first_image, vis, 'First image')"
   ]
  },
  {
   "cell_type": "code",
   "execution_count": 270,
   "id": "29de580b",
   "metadata": {},
   "outputs": [
    {
     "name": "stdout",
     "output_type": "stream",
     "text": [
      "37\n"
     ]
    }
   ],
   "source": [
    "print(collection.size().getInfo())"
   ]
  },
  {
   "cell_type": "code",
   "execution_count": 271,
   "id": "63c17180",
   "metadata": {},
   "outputs": [],
   "source": [
    "\n",
    "# Define arguments for animation function parameters.\n",
    "video_args = {\n",
    "  'dimensions': 768,\n",
    "  'region': Map_Nordelta,\n",
    "  'framesPerSecond': 0.1,\n",
    "  'bands': ['NIR', 'Red', 'Green'],\n",
    "  'min': 0,\n",
    "  'max': 4000,\n",
    "  'gamma': [1, 1, 1]\n",
    "}"
   ]
  },
  {
   "cell_type": "code",
   "execution_count": 272,
   "id": "9d152f79",
   "metadata": {},
   "outputs": [],
   "source": [
    "work_dir = os.path.join(os.path.expanduser(\"~\"), 'Downloads')\n",
    "if not os.path.exists(work_dir):\n",
    "    os.makedirs(work_dir)\n",
    "out_gif = os.path.join(work_dir, \"landsat_ts.gif\")"
   ]
  },
  {
   "cell_type": "code",
   "execution_count": 273,
   "id": "ced3fada",
   "metadata": {},
   "outputs": [
    {
     "name": "stdout",
     "output_type": "stream",
     "text": [
      "Generating URL...\n",
      "Downloading GIF image from https://earthengine.googleapis.com/v1alpha/projects/earthengine-legacy/videoThumbnails/1537fa40aa95542397c54da81b574eaa-55aff8db24a2870fe9c77317c825ddc4:getPixels\n",
      "Please wait ...\n",
      "The GIF image has been saved to: C:\\Users\\WINDOWS 10\\Downloads\\landsat_ts.gif\n"
     ]
    }
   ],
   "source": [
    "geemap.download_ee_video(collection, video_args, out_gif)\n"
   ]
  },
  {
   "cell_type": "code",
   "execution_count": 274,
   "id": "35d5e53e",
   "metadata": {},
   "outputs": [
    {
     "data": {
      "application/vnd.jupyter.widget-view+json": {
       "model_id": "dbc056a9602e48a08b4e06930faf10f7",
       "version_major": 2,
       "version_minor": 0
      },
      "text/plain": [
       "Output()"
      ]
     },
     "metadata": {},
     "output_type": "display_data"
    }
   ],
   "source": [
    "geemap.show_image(out_gif)"
   ]
  },
  {
   "cell_type": "code",
   "execution_count": 275,
   "id": "575df5d2",
   "metadata": {},
   "outputs": [],
   "source": [
    "texted_gif = os.path.join(work_dir, \"landsat_ts_text.gif\")\n",
    "geemap.add_text_to_gif(out_gif, texted_gif, xy=('3%', '5%'), text_sequence=1984, font_size=30, font_color='#ffffff', add_progress_bar=False)"
   ]
  },
  {
   "cell_type": "code",
   "execution_count": 276,
   "id": "c295784c",
   "metadata": {},
   "outputs": [],
   "source": [
    "label = 'Nordelta, Buenos Aires'\n",
    "geemap.add_text_to_gif(texted_gif, texted_gif, xy=('2%', '88%'), text_sequence=label, font_size=30, font_color='#ffffff', progress_bar_color='cyan')"
   ]
  },
  {
   "cell_type": "code",
   "execution_count": 277,
   "id": "6b1e132f",
   "metadata": {},
   "outputs": [
    {
     "data": {
      "application/vnd.jupyter.widget-view+json": {
       "model_id": "7a7a17462930497fa362cdd7d664cb4c",
       "version_major": 2,
       "version_minor": 0
      },
      "text/plain": [
       "Output()"
      ]
     },
     "metadata": {},
     "output_type": "display_data"
    }
   ],
   "source": [
    "geemap.show_image(out_gif)"
   ]
  },
  {
   "cell_type": "code",
   "execution_count": null,
   "id": "7038532b",
   "metadata": {},
   "outputs": [],
   "source": [
    "geemap.show_image(out_gif)"
   ]
  },
  {
   "cell_type": "code",
   "execution_count": 282,
   "id": "2a09541c",
   "metadata": {},
   "outputs": [
    {
     "data": {
      "application/vnd.jupyter.widget-view+json": {
       "model_id": "eeb1f8e2ae6d4db1baab2aea0c4f51f9",
       "version_major": 2,
       "version_minor": 0
      },
      "text/plain": [
       "Output()"
      ]
     },
     "metadata": {},
     "output_type": "display_data"
    }
   ],
   "source": [
    "collection2 = geemap.landsat_timeseries(roi=Map_Nordelta, start_year=2004, end_year=2004)\n",
    "first_image = collection.first()\n",
    "\n",
    "vis = {\n",
    "    'bands': ['NIR', 'Red', 'Green'],\n",
    "    'min': 0,\n",
    "    'max': 4000,\n",
    "    'gamma': [1, 1, 1]\n",
    "}\n",
    "\n",
    "Map.addLayer(first_image, vis, 'First image')\n",
    "geemap.show_image(collection2)"
   ]
  },
  {
   "cell_type": "code",
   "execution_count": null,
   "id": "c8a94e6a",
   "metadata": {},
   "outputs": [],
   "source": []
  }
 ],
 "metadata": {
  "kernelspec": {
   "display_name": "Python 3 (ipykernel)",
   "language": "python",
   "name": "python3"
  },
  "language_info": {
   "codemirror_mode": {
    "name": "ipython",
    "version": 3
   },
   "file_extension": ".py",
   "mimetype": "text/x-python",
   "name": "python",
   "nbconvert_exporter": "python",
   "pygments_lexer": "ipython3",
   "version": "3.9.6"
  }
 },
 "nbformat": 4,
 "nbformat_minor": 5
}
